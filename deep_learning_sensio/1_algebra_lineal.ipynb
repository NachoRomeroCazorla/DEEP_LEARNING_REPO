{
  "cells": [
    {
      "cell_type": "markdown",
      "metadata": {
        "id": "NiYsoVqv7oh2"
      },
      "source": [
        "# Álgebra Lineal"
      ]
    },
    {
      "cell_type": "markdown",
      "metadata": {
        "id": "rFFZZCcC7oh4"
      },
      "source": [
        "El `álgebra lineal` es una rama de las matemáticas utilizada en muchos campos de la ciencia y la ingeniería, incluyendo la `Inteligencia Artificial`. Un buen entendimiento de álgebra lineal es esencial para trabajar con la mayoría de algoritmos de `Machine Learning`, y sobretodo algoritmos de `Deep Learning`. En este post vamos a ver los conceptos de álgebra lineal más importante en el desarrollo de algoritmos de IA, omitiendo muchos conceptos interesantes pero no esenciales para nuestras aplicaciones."
      ]
    },
    {
      "cell_type": "markdown",
      "metadata": {
        "id": "0CEuHOXs7oh5"
      },
      "source": [
        "## Objetos matemáticos"
      ]
    },
    {
      "cell_type": "markdown",
      "metadata": {
        "id": "5iQd8DFZ7oh6"
      },
      "source": [
        "En nuestro viaje por el apasionante mundo del desarrollo de algoritmos de IA nos encontraremos de manera recurrente con los siguientes objetos matemáticos."
      ]
    },
    {
      "cell_type": "markdown",
      "metadata": {
        "id": "HY9zSARd7oh7"
      },
      "source": [
        "### Escalares"
      ]
    },
    {
      "cell_type": "markdown",
      "metadata": {
        "id": "ylPAS-qc7oh7"
      },
      "source": [
        "Un `escalar` es simplemente un número único, a diferencia de la mayoría del resto de objetos matemáticos estudiados en álgebra lineal que normalmente son colecciones de múltiples números. Suelen denotarse mediante letras en minúscula, por ejemplo cuando decimos que una red neuronal tiene un número $n$ de neuronas estamos usando un valor escalar."
      ]
    },
    {
      "cell_type": "code",
      "execution_count": 1,
      "metadata": {
        "ExecuteTime": {
          "end_time": "2020-06-14T16:05:48.890188Z",
          "start_time": "2020-06-14T16:05:48.876664Z"
        },
        "id": "01C_RfNt7oh8",
        "outputId": "14faa617-62e0-439d-810f-f79adb7024ae"
      },
      "outputs": [
        {
          "data": {
            "text/plain": [
              "1"
            ]
          },
          "execution_count": 1,
          "metadata": {},
          "output_type": "execute_result"
        }
      ],
      "source": [
        "# un valor escalar\n",
        "x = 1\n",
        "x"
      ]
    },
    {
      "cell_type": "markdown",
      "metadata": {
        "id": "B2iE4scb7oh-"
      },
      "source": [
        "### Vectores"
      ]
    },
    {
      "cell_type": "markdown",
      "metadata": {
        "id": "KEIU5zO37oh_"
      },
      "source": [
        "Un `vector` es una colección de números dispuestos en una secuencia. Podemos identificar cada elemento individual mediante su posición en la secuencia. Suelen denotarse mediante letras en minúscula y en negrita, por ejemplo $\\mathbf{x}$, mientras que cada elemento se denota con la misma letra que el vector, pero sin negrita y con un subíndice indicando su posición en el vector, por ejemplo $x_1$ es el primer elemento en el vector $\\mathbf{x}$.\n",
        "\n",
        "\\begin{equation}\n",
        "    \\mathbf{x} =\n",
        "    \\begin{bmatrix}x_1 \\\\ x_2 \\\\ ... \\\\ x_n\\end{bmatrix}\n",
        "\\end{equation}"
      ]
    },
    {
      "cell_type": "code",
      "execution_count": 3,
      "metadata": {
        "ExecuteTime": {
          "end_time": "2020-06-14T16:06:02.034104Z",
          "start_time": "2020-06-14T16:06:02.015082Z"
        },
        "id": "fjWXPhNx7oiB",
        "outputId": "d5bc5e54-2ddb-49f1-abe4-3f59f0cf635a"
      },
      "outputs": [
        {
          "data": {
            "text/plain": [
              "array([1, 2, 3, 4])"
            ]
          },
          "execution_count": 3,
          "metadata": {},
          "output_type": "execute_result"
        }
      ],
      "source": [
        "# un vector\n",
        "\n",
        "import numpy as np\n",
        "\n",
        "x = np.array([1, 2, 3, 4])\n",
        "x"
      ]
    },
    {
      "cell_type": "code",
      "execution_count": 4,
      "metadata": {
        "ExecuteTime": {
          "end_time": "2020-06-14T16:06:09.057462Z",
          "start_time": "2020-06-14T16:06:09.052401Z"
        },
        "id": "psn6X90b7oiD",
        "outputId": "e2ecae33-7f2d-4ee8-da37-ab2e0984f039"
      },
      "outputs": [
        {
          "data": {
            "text/plain": [
              "np.int64(1)"
            ]
          },
          "execution_count": 4,
          "metadata": {},
          "output_type": "execute_result"
        }
      ],
      "source": [
        "# primer valor\n",
        "\n",
        "x[0]"
      ]
    },
    {
      "cell_type": "markdown",
      "metadata": {
        "id": "bipR2l8m7oiG"
      },
      "source": [
        "> ⚠️ Recuerda que en Python los índices de las diferentes estructuras de datos empiezan por el valor 0."
      ]
    },
    {
      "cell_type": "markdown",
      "metadata": {
        "id": "LzEuGeWS7oiG"
      },
      "source": [
        "Utilizaremos vectores para representar puntos en el espacio, secuencias de valores en series temporales, frases en las que cada elemento corresponde a una palabra, etc."
      ]
    },
    {
      "cell_type": "markdown",
      "metadata": {
        "id": "RIznYj1Y7oiH"
      },
      "source": [
        "### Matrices"
      ]
    },
    {
      "cell_type": "markdown",
      "metadata": {
        "id": "sHTt9flC7oiI"
      },
      "source": [
        "Una `matriz` es un vector bidimensional, en el que cada elemento se identifica mediante dos índices en vez de uno. Suelen denotarse mediante letras en mayúscula y en negrita, por ejemplo $\\mathbf{A}$. Como en el caso de los vectores, cada elemento se identifica con la misma letra que la matriz, pero sin negrita y con dos subíndices indicando su posición en la matriz. Por ejemplo el valor $A_{1,1}$ es el elemento en la primera fila y primera columna.\n",
        "\n",
        "\\begin{equation}\n",
        "    \\mathbf{A} =\n",
        "    \\begin{bmatrix}A_{1,1} && A_{1,2} \\\\  A_{2,1} && A_{2,2} \\end{bmatrix}\n",
        "\\end{equation}"
      ]
    },
    {
      "cell_type": "code",
      "execution_count": 5,
      "metadata": {
        "ExecuteTime": {
          "end_time": "2020-06-14T16:15:26.086286Z",
          "start_time": "2020-06-14T16:15:26.074286Z"
        },
        "id": "gARVq_mK7oiI",
        "outputId": "93e0eddf-de98-45e8-c127-22422c6f0eec"
      },
      "outputs": [
        {
          "data": {
            "text/plain": [
              "array([[1, 2],\n",
              "       [3, 4]])"
            ]
          },
          "execution_count": 5,
          "metadata": {},
          "output_type": "execute_result"
        }
      ],
      "source": [
        "# una matriz\n",
        "\n",
        "A = np.array([[1, 2], [3, 4]])\n",
        "A"
      ]
    },
    {
      "cell_type": "code",
      "execution_count": 6,
      "metadata": {
        "ExecuteTime": {
          "end_time": "2020-06-14T16:15:35.881262Z",
          "start_time": "2020-06-14T16:15:35.875260Z"
        },
        "id": "XC-1IXKl7oiK",
        "outputId": "77c9f03d-e406-4be2-bcf0-8640ca850c59"
      },
      "outputs": [
        {
          "data": {
            "text/plain": [
              "np.int64(1)"
            ]
          },
          "execution_count": 6,
          "metadata": {},
          "output_type": "execute_result"
        }
      ],
      "source": [
        "# primer valor\n",
        "\n",
        "A[0,0]"
      ]
    },
    {
      "cell_type": "markdown",
      "metadata": {
        "id": "v9Z4QH-A7oiK"
      },
      "source": [
        "Utilizaremos matrices para representar imágenes en blanco y negro, los parámetros de una capa en una red neuronal, etc. En la siguiente imágen puedes ver un ejemplo de una imágen con un número 5, como puedes ver se trata de una matriz en la que cada elemento indica la intensidad de color para cada píxel."
      ]
    },
    {
      "cell_type": "markdown",
      "metadata": {
        "id": "mnSvO_Tz7oiM"
      },
      "source": [
        "![](https://koenig-media.raywenderlich.com/uploads/2018/01/firstXsample.png)"
      ]
    },
    {
      "cell_type": "markdown",
      "metadata": {
        "id": "dxgGJhuq7oiM"
      },
      "source": [
        "### Tensores"
      ]
    },
    {
      "cell_type": "markdown",
      "metadata": {
        "id": "rgbDcyGC7oiN"
      },
      "source": [
        "Un `tensor` es una secuencia de valores dispuesta en una malla regular con un número arbitrario de dimensiones. Podemos ver un `escalar` como un tensor con 0 dimensiones, un `vector` como un tensor de 1 dimensión y una `matriz` como un tensor de 2 dimensiones. Así pues, hablamos de tensores en general como la estructura de datos que engloba las estructuras vistas anteriormente y cualquier otra con mayor número de dimensiones."
      ]
    },
    {
      "cell_type": "code",
      "execution_count": 7,
      "metadata": {
        "ExecuteTime": {
          "end_time": "2020-06-14T16:23:17.688473Z",
          "start_time": "2020-06-14T16:23:17.677446Z"
        },
        "id": "OH82NjYl7oiN",
        "outputId": "f5bb74ba-0456-41a0-c0d8-21ee144ff24d"
      },
      "outputs": [
        {
          "data": {
            "text/plain": [
              "array([[[1, 2],\n",
              "        [3, 4]],\n",
              "\n",
              "       [[1, 2],\n",
              "        [3, 4]]])"
            ]
          },
          "execution_count": 7,
          "metadata": {},
          "output_type": "execute_result"
        }
      ],
      "source": [
        "# un tensor de 3 dimensiones\n",
        "# puedes interpretarlo como dos matrices\n",
        "\n",
        "A = np.array([[[1, 2], [3, 4]],[[1, 2], [3, 4]]])\n",
        "A"
      ]
    },
    {
      "cell_type": "markdown",
      "metadata": {
        "id": "DGG5klyq7oiO"
      },
      "source": [
        "Usaremos tensores de tres dimensiones para representar imágenes en color (canales RGB), tensores de cuatro dimensiones para representar vídeos (secuencia de imágenes en color), etc."
      ]
    },
    {
      "cell_type": "markdown",
      "metadata": {
        "id": "t5GqWQSc7oiP"
      },
      "source": [
        "## Operaciones"
      ]
    },
    {
      "cell_type": "markdown",
      "metadata": {
        "id": "ewtNTKf27oiP"
      },
      "source": [
        "Una operación importante cuando trabajamos con matrices es la `traspuesta`. Consiste en intercambiar las filas por las columnas, y suele denotarse con el superíndice $(\\cdot)^T$, por ejemplo $\\mathbf{A}^T$ es la matriz traspuesta de $\\mathbf{A}$."
      ]
    },
    {
      "cell_type": "code",
      "execution_count": 8,
      "metadata": {
        "ExecuteTime": {
          "end_time": "2020-06-14T16:28:17.184214Z",
          "start_time": "2020-06-14T16:28:17.165192Z"
        },
        "id": "pORqO2XO7oiQ",
        "outputId": "d460bdec-256b-44d2-8542-2555638b7792"
      },
      "outputs": [
        {
          "data": {
            "text/plain": [
              "array([[0, 1, 2, 3, 4],\n",
              "       [5, 6, 7, 8, 9]])"
            ]
          },
          "execution_count": 8,
          "metadata": {},
          "output_type": "execute_result"
        }
      ],
      "source": [
        "A = np.arange(10).reshape(2,5)\n",
        "A"
      ]
    },
    {
      "cell_type": "code",
      "execution_count": 9,
      "metadata": {
        "ExecuteTime": {
          "end_time": "2020-06-14T16:28:22.643417Z",
          "start_time": "2020-06-14T16:28:22.636417Z"
        },
        "id": "TZi-xNlq7oiR",
        "outputId": "63a59727-4ec4-463e-efd3-f6790c76daa2"
      },
      "outputs": [
        {
          "data": {
            "text/plain": [
              "array([[0, 5],\n",
              "       [1, 6],\n",
              "       [2, 7],\n",
              "       [3, 8],\n",
              "       [4, 9]])"
            ]
          },
          "execution_count": 9,
          "metadata": {},
          "output_type": "execute_result"
        }
      ],
      "source": [
        "A.T"
      ]
    },
    {
      "cell_type": "markdown",
      "metadata": {
        "id": "DI-ztX0-7oiT"
      },
      "source": [
        "Un vector es una matriz de una sola columna, por lo que su transpuesta es simplemente una matriz con una fila con los mismos valores. En cuanto a un valor escalar, él mismo es su traspuesta."
      ]
    },
    {
      "cell_type": "markdown",
      "metadata": {
        "id": "sHlyJh287oiT"
      },
      "source": [
        "Podemos sumar matrices entre ellas siempre que tengan la misma forma, añadiendo cada elemento de manera independiente."
      ]
    },
    {
      "cell_type": "code",
      "execution_count": 10,
      "metadata": {
        "ExecuteTime": {
          "end_time": "2020-06-14T16:31:46.948160Z",
          "start_time": "2020-06-14T16:31:46.942108Z"
        },
        "id": "IbZ50Q5x7oiU",
        "outputId": "0e554512-2366-4754-8837-6a599778a695"
      },
      "outputs": [
        {
          "data": {
            "text/plain": [
              "(array([[ 1.06921591, -0.10728648,  1.20858154],\n",
              "        [-0.80919616,  0.01094541, -0.02229618],\n",
              "        [ 0.21852004,  1.08809983, -2.13972918]]),\n",
              " array([[-1.05451732, -0.50726668, -0.89116876],\n",
              "        [ 1.35259453, -2.39043953, -0.94094444],\n",
              "        [ 0.91249605,  0.57172856, -0.71602761]]))"
            ]
          },
          "execution_count": 10,
          "metadata": {},
          "output_type": "execute_result"
        }
      ],
      "source": [
        "A = np.random.randn(3,3)\n",
        "B = np.random.randn(3,3)\n",
        "\n",
        "A, B"
      ]
    },
    {
      "cell_type": "code",
      "execution_count": 11,
      "metadata": {
        "ExecuteTime": {
          "end_time": "2020-06-14T16:31:50.046481Z",
          "start_time": "2020-06-14T16:31:50.036935Z"
        },
        "id": "Z6JrYXkE7oiU",
        "outputId": "a1f68e62-760c-40e2-c4fb-e54709eebb4d"
      },
      "outputs": [
        {
          "data": {
            "text/plain": [
              "array([[ 0.0146986 , -0.61455316,  0.31741278],\n",
              "       [ 0.54339836, -2.37949412, -0.96324062],\n",
              "       [ 1.13101609,  1.6598284 , -2.85575679]])"
            ]
          },
          "execution_count": 11,
          "metadata": {},
          "output_type": "execute_result"
        }
      ],
      "source": [
        "A + B"
      ]
    },
    {
      "cell_type": "markdown",
      "metadata": {
        "id": "inzKZj_i7oiW"
      },
      "source": [
        "> ⚡ Como vimos en un [post](https://sensioai.com/blog/008_numpy_aop) anterior podemos saltarnos esta restricción al trabajar con NumPy gracias al `broadcasting`."
      ]
    },
    {
      "cell_type": "markdown",
      "metadata": {
        "id": "CFk0WqHA7oiW"
      },
      "source": [
        "### Multiplicando matrices y vectores"
      ]
    },
    {
      "cell_type": "markdown",
      "metadata": {
        "id": "tkx4D9iK7oiW"
      },
      "source": [
        "Una de las operaciones más importanes en álgebra lineal es la multiplicación de matrices. Para poder multiplicar dos matrices, $\\mathbf{C} = \\mathbf{A} \\mathbf{B}$, necesitamos que $\\mathbf{A}$ tenga el mismo número de columnas que filas tiene $\\mathbf{B}$. El resultado, $\\mathbf{C}$, será una matriz con el mismo número de filas que $\\mathbf{A}$ y el mismo número de columnas que $\\mathbf{B}$."
      ]
    },
    {
      "cell_type": "code",
      "execution_count": 12,
      "metadata": {
        "ExecuteTime": {
          "end_time": "2020-06-14T17:35:17.653113Z",
          "start_time": "2020-06-14T17:35:17.637113Z"
        },
        "id": "2z0WwBcg7oiX",
        "outputId": "195903ea-c532-48ca-ef3a-2298d4885920"
      },
      "outputs": [
        {
          "data": {
            "text/plain": [
              "(array([[1, 2, 1],\n",
              "        [0, 1, 0],\n",
              "        [2, 3, 4]]),\n",
              " array([[2, 5],\n",
              "        [6, 7],\n",
              "        [1, 8]]))"
            ]
          },
          "execution_count": 12,
          "metadata": {},
          "output_type": "execute_result"
        }
      ],
      "source": [
        "A = np.array([[1,2,1],[0,1,0],[2,3,4]])\n",
        "B = np.array([[2,5],[6,7],[1,8]])\n",
        "\n",
        "A, B"
      ]
    },
    {
      "cell_type": "code",
      "execution_count": 13,
      "metadata": {
        "ExecuteTime": {
          "end_time": "2020-06-14T17:35:17.793394Z",
          "start_time": "2020-06-14T17:35:17.774397Z"
        },
        "id": "PjUCqdc_7oiX",
        "outputId": "11df0c5d-3e25-4246-d04a-5a18ee6f4a94"
      },
      "outputs": [
        {
          "data": {
            "text/plain": [
              "array([[15, 27],\n",
              "       [ 6,  7],\n",
              "       [26, 63]])"
            ]
          },
          "execution_count": 13,
          "metadata": {},
          "output_type": "execute_result"
        }
      ],
      "source": [
        "C = A.dot(B)\n",
        "C"
      ]
    },
    {
      "cell_type": "code",
      "execution_count": 14,
      "metadata": {
        "ExecuteTime": {
          "end_time": "2020-06-14T17:35:35.093491Z",
          "start_time": "2020-06-14T17:35:35.074490Z"
        },
        "id": "5TmlclOD7oiY",
        "outputId": "3990fb7e-6aae-494d-ef69-51bdba2d2300"
      },
      "outputs": [
        {
          "data": {
            "text/plain": [
              "array([[15, 27],\n",
              "       [ 6,  7],\n",
              "       [26, 63]])"
            ]
          },
          "execution_count": 14,
          "metadata": {},
          "output_type": "execute_result"
        }
      ],
      "source": [
        "# notación alternativa\n",
        "\n",
        "C = A @ B\n",
        "C"
      ]
    },
    {
      "cell_type": "code",
      "execution_count": 15,
      "metadata": {
        "ExecuteTime": {
          "end_time": "2020-06-14T17:35:18.972284Z",
          "start_time": "2020-06-14T17:35:18.958286Z"
        },
        "id": "SGtTtw8d7oiY",
        "outputId": "7d84f00c-48e0-4b87-fab1-d6fe8dc668cf"
      },
      "outputs": [
        {
          "data": {
            "text/plain": [
              "(3, 2)"
            ]
          },
          "execution_count": 15,
          "metadata": {},
          "output_type": "execute_result"
        }
      ],
      "source": [
        "C.shape"
      ]
    },
    {
      "cell_type": "markdown",
      "metadata": {
        "id": "FTrVNPDF7oiZ"
      },
      "source": [
        "Esta operación es distributiva, $\\mathbf{A}(\\mathbf{B}+\\mathbf{C}) = \\mathbf{A} \\mathbf{B} + \\mathbf{A} \\mathbf{C}$, y asociativa, $\\mathbf{A}(\\mathbf{B} \\mathbf{C}) = (\\mathbf{A} \\mathbf{B}) \\mathbf{C}$, pero no commutativa, $\\mathbf{A} \\mathbf{B} \\neq \\mathbf{B} \\mathbf{A}$. Aquí tienes una visualización de la operación.\n",
        "\n",
        "![](https://thumbs.gfycat.com/PositiveExhaustedAmericangoldfinch-size_restricted.gif)"
      ]
    },
    {
      "cell_type": "markdown",
      "metadata": {
        "id": "4ifGLr6W7oiZ"
      },
      "source": [
        "Ten en cuenta que esta operación no es el resultado de multiplicar cada elemento de las matrices por separado. Este tipo de multiplicación se conoce como `Hardamard product` o `element-wise product` en inglés. En este caso ambas matrices deberán tener la misma forma."
      ]
    },
    {
      "cell_type": "code",
      "execution_count": 16,
      "metadata": {
        "ExecuteTime": {
          "end_time": "2020-06-14T16:43:03.925568Z",
          "start_time": "2020-06-14T16:43:03.910538Z"
        },
        "id": "zJ5cqCA37oia",
        "outputId": "aeaff9db-d218-4281-c00f-b868b4e47d77"
      },
      "outputs": [
        {
          "data": {
            "text/plain": [
              "(array([[-1.064115  , -2.75927771],\n",
              "        [ 0.08574639,  1.21805475]]),\n",
              " array([[-0.48534584,  0.65703311],\n",
              "        [-0.04819405, -1.60988277]]))"
            ]
          },
          "execution_count": 16,
          "metadata": {},
          "output_type": "execute_result"
        }
      ],
      "source": [
        "A = np.random.randn(2,2)\n",
        "B = np.random.randn(2,2)\n",
        "\n",
        "A, B"
      ]
    },
    {
      "cell_type": "code",
      "execution_count": 17,
      "metadata": {
        "ExecuteTime": {
          "end_time": "2020-06-14T16:43:04.380413Z",
          "start_time": "2020-06-14T16:43:04.366415Z"
        },
        "id": "bHLsyqvf7oia",
        "outputId": "511d12bf-143e-4398-a32c-0eb39c10ac8d"
      },
      "outputs": [
        {
          "data": {
            "text/plain": [
              "array([[ 0.51646379, -1.81293681],\n",
              "       [-0.00413247, -1.96092537]])"
            ]
          },
          "execution_count": 17,
          "metadata": {},
          "output_type": "execute_result"
        }
      ],
      "source": [
        "# multiplicamos cada elemento de manera independiente\n",
        "\n",
        "A*B"
      ]
    },
    {
      "cell_type": "markdown",
      "metadata": {
        "id": "AmkbZQ3e7oig"
      },
      "source": [
        "## Identidad y matriz inversa"
      ]
    },
    {
      "cell_type": "markdown",
      "metadata": {
        "id": "9XeZu6Vb7oih"
      },
      "source": [
        "La matriz `identidad` es una matriz con $1$ en todos los valores de su diagonal y $0$ en el resto de valores."
      ]
    },
    {
      "cell_type": "code",
      "execution_count": 18,
      "metadata": {
        "ExecuteTime": {
          "end_time": "2020-06-14T16:49:23.912570Z",
          "start_time": "2020-06-14T16:49:23.894547Z"
        },
        "id": "kcFAZdMb7oih",
        "outputId": "52cd8e5b-aead-41e4-db2c-abb33734d887"
      },
      "outputs": [
        {
          "data": {
            "text/plain": [
              "array([[1., 0., 0.],\n",
              "       [0., 1., 0.],\n",
              "       [0., 0., 1.]])"
            ]
          },
          "execution_count": 18,
          "metadata": {},
          "output_type": "execute_result"
        }
      ],
      "source": [
        "# matriz identidad\n",
        "\n",
        "I = np.eye(3)\n",
        "I"
      ]
    },
    {
      "cell_type": "markdown",
      "metadata": {
        "id": "ZjpCxszx7oih"
      },
      "source": [
        "Esta matriz tiene la propiedad de no alterar ningún vector por el que se multiplique, y nos permite definir la matriz `inversa` como aquella matriz que cumple la condición $\\mathbf{A}^{-1} \\mathbf{A} = \\mathbf{I}$, donde $\\mathbf{A}^{-1}$ es la matriz inversa de $\\mathbf{A}$ y $\\mathbf{I}$ es la matriz identidad. Esta matriz inversa nos permite resolver sistemas de ecuaciones lineales de la forma $\\mathbf{A} \\mathbf{x} = \\mathbf{b}$, donde $\\mathbf{A}$ y $\\mathbf{b}$ son una matriz y un vector, respectivamente, de valores conocidos y $\\mathbf{x}$ es un vector de incógnitas. La solución a este sistema es $\\mathbf{x} = \\mathbf{A}^{-1} \\mathbf{b}$. El problema con la matriz inversa es que no siempre existe y, cuando lo hace, calcularla puede requerir de un tiempo de cálculo considerable, el cual aumenta con el tamaño de $\\mathbf{A}$ requiriendo de métodos alternativos de resolución en la gran mayoría de ocasiones."
      ]
    },
    {
      "cell_type": "code",
      "execution_count": 19,
      "metadata": {
        "ExecuteTime": {
          "end_time": "2020-06-14T16:55:35.739276Z",
          "start_time": "2020-06-14T16:55:35.720244Z"
        },
        "id": "Aq-exkXr7oii",
        "outputId": "1c1e31de-9064-4c75-e2c4-49672c57ba56"
      },
      "outputs": [
        {
          "data": {
            "text/plain": [
              "array([[ 1,  2,  3],\n",
              "       [ 5,  7, 11],\n",
              "       [21, 29, 31]])"
            ]
          },
          "execution_count": 19,
          "metadata": {},
          "output_type": "execute_result"
        }
      ],
      "source": [
        "import numpy.linalg as linalg\n",
        "\n",
        "A = np.array([[1,2,3],[5,7,11],[21,29,31]])\n",
        "A"
      ]
    },
    {
      "cell_type": "code",
      "execution_count": 20,
      "metadata": {
        "ExecuteTime": {
          "end_time": "2020-06-14T16:55:43.341361Z",
          "start_time": "2020-06-14T16:55:43.322927Z"
        },
        "id": "_AxIVtXd7oij",
        "outputId": "3fb9f53b-cdf5-4147-e4c6-aaa8932f05fe"
      },
      "outputs": [
        {
          "data": {
            "text/plain": [
              "array([[-2.31818182,  0.56818182,  0.02272727],\n",
              "       [ 1.72727273, -0.72727273,  0.09090909],\n",
              "       [-0.04545455,  0.29545455, -0.06818182]])"
            ]
          },
          "execution_count": 20,
          "metadata": {},
          "output_type": "execute_result"
        }
      ],
      "source": [
        "linalg.inv(A)"
      ]
    },
    {
      "cell_type": "markdown",
      "metadata": {
        "id": "L4fhOmV67oik"
      },
      "source": [
        "> 💡 Puedes encontrar toda la funcionalidad que ofrece NumPy para álgebra lineal en el paquete `numpy.linalg`."
      ]
    },
    {
      "cell_type": "markdown",
      "metadata": {
        "id": "BHEGujWW7oil"
      },
      "source": [
        "Podemos resolver el siguiente sistema de ecuaciones lineales\n",
        "\n",
        "\\begin{equation}\n",
        "2x + 6y = 6 \n",
        "\\end{equation}\n",
        "\n",
        "\\begin{equation}\n",
        "5x + 3y = -9\n",
        "\\end{equation}\n",
        "\n",
        "de esta manera"
      ]
    },
    {
      "cell_type": "code",
      "execution_count": 21,
      "metadata": {
        "ExecuteTime": {
          "end_time": "2020-06-14T16:59:59.845163Z",
          "start_time": "2020-06-14T16:59:59.826142Z"
        },
        "id": "gyQNvYaF7oil",
        "outputId": "17b0a31a-84fa-4d3c-871d-9087c113ad1e"
      },
      "outputs": [
        {
          "data": {
            "text/plain": [
              "array([-3.,  2.])"
            ]
          },
          "execution_count": 21,
          "metadata": {},
          "output_type": "execute_result"
        }
      ],
      "source": [
        "A  = np.array([[2, 6], [5, 3]])\n",
        "b = np.array([6, -9])\n",
        "\n",
        "x = linalg.inv(A).dot(b)\n",
        "x"
      ]
    },
    {
      "cell_type": "code",
      "execution_count": 22,
      "metadata": {
        "ExecuteTime": {
          "end_time": "2020-06-14T17:00:00.431235Z",
          "start_time": "2020-06-14T17:00:00.415225Z"
        },
        "id": "UxC3doSA7oim",
        "outputId": "33f7ac35-837c-476f-e4b1-61b26aabe333"
      },
      "outputs": [
        {
          "data": {
            "text/plain": [
              "array([ True,  True])"
            ]
          },
          "execution_count": 22,
          "metadata": {},
          "output_type": "execute_result"
        }
      ],
      "source": [
        "# comprobar solución\n",
        "\n",
        "A.dot(x) == b"
      ]
    },
    {
      "cell_type": "markdown",
      "metadata": {
        "id": "naRw8tdg7oim"
      },
      "source": [
        "Ya que hemos reescrito el problema como $\\mathbf{A} \\mathbf{x} = \\mathbf{b}$, donde\n",
        "\n",
        "\\begin{equation}\n",
        "    \\mathbf{A} =\n",
        "    \\begin{bmatrix}2 && 6 \\\\  5 && 3 \\end{bmatrix}     \n",
        "    \\,\n",
        "    \\mathbf{x} = \\begin{bmatrix}x \\\\ y \\end{bmatrix}\n",
        "    \\,\n",
        "    \\mathbf{b} = \\begin{bmatrix}6 \\\\ -9 \\end{bmatrix}\n",
        "\\end{equation}\n",
        "\n"
      ]
    },
    {
      "cell_type": "markdown",
      "metadata": {
        "id": "I8OFUYLD7oin"
      },
      "source": [
        "Un tipo especial de matriz es la matriz `diagonal`, con elementos diferentes de $0$ en su diagonal y $0$ en el resto de elementos (similar a la matriz identidad). Otros tipos de matrices interesantes son las matrices `simétricas`, matrices cuya traspuesta es ella misma, $\\mathbf{A} = \\mathbf{A}^{T}$, y las matrices `ortogonales`, cuya inversa es igual a su traspuesta, $\\mathbf{A}^{-1} = \\mathbf{A}^{T}$, muy interesante ya que en este caso calcular la inversa es una operación muy sencilla."
      ]
    },
    {
      "cell_type": "markdown",
      "metadata": {
        "heading_collapsed": true,
        "id": "ufQls3uR7oin"
      },
      "source": [
        "## Descomposición de matrices"
      ]
    },
    {
      "cell_type": "markdown",
      "metadata": {
        "hidden": true,
        "id": "nUfnxnt17oin"
      },
      "source": [
        "En álgebra lineal es muy común la descomposición de matrices en constituyentes más básicos independientes de su representación y que pueden darnos cierta información interesante. La descomposición más común es la descomposición en vectores propios, en la que una matriz se descompone en un conjunto de vectores y valores propios que cumplen la siguiente propiedad\n",
        "\n",
        "\\begin{equation}\n",
        " \\mathbf{A} \\mathbf{v} = \\lambda \\mathbf{v}\n",
        "\\end{equation}\n",
        "\n",
        "donde $\\mathbf{v}$ es un vector propio y $\\lambda$ su correspondiente valor propio. Juntando todos los vectores propios en una matriz $\\mathbf{V}$ y los valores propios en una matriz diagonal, $\\mathbf{\\Lambda}$, vemos que $\\mathbf{A} = \\mathbf{V} \\mathbf{\\Lambda} \\mathbf{V}^{-1}$."
      ]
    },
    {
      "cell_type": "code",
      "execution_count": 23,
      "metadata": {
        "ExecuteTime": {
          "end_time": "2020-06-14T17:20:39.722396Z",
          "start_time": "2020-06-14T17:20:39.714770Z"
        },
        "hidden": true,
        "id": "NC9btMr-7oio",
        "outputId": "bc069d6e-3ec0-44a2-dbbd-7eda37360a58"
      },
      "outputs": [
        {
          "data": {
            "text/plain": [
              "array([[ 1,  2,  3],\n",
              "       [ 5,  7, 11],\n",
              "       [21, 29, 31]])"
            ]
          },
          "execution_count": 23,
          "metadata": {},
          "output_type": "execute_result"
        }
      ],
      "source": [
        "A = np.array([[1,2,3],[5,7,11],[21,29,31]])\n",
        "A"
      ]
    },
    {
      "cell_type": "code",
      "execution_count": 24,
      "metadata": {
        "ExecuteTime": {
          "end_time": "2020-06-14T17:21:15.850133Z",
          "start_time": "2020-06-14T17:21:15.840129Z"
        },
        "hidden": true,
        "id": "bAtAZS0x7oio",
        "outputId": "ccfbc714-704c-4d97-cbf0-d043a2e5bccc"
      },
      "outputs": [
        {
          "data": {
            "text/plain": [
              "(array([42.26600592, -0.35798416, -2.90802176]),\n",
              " array([[-0.08381182, -0.76283526, -0.18913107],\n",
              "        [-0.3075286 ,  0.64133975, -0.6853186 ],\n",
              "        [-0.94784057, -0.08225377,  0.70325518]]))"
            ]
          },
          "execution_count": 24,
          "metadata": {},
          "output_type": "execute_result"
        }
      ],
      "source": [
        "L, V = linalg.eig(A)\n",
        "L, V"
      ]
    },
    {
      "cell_type": "code",
      "execution_count": null,
      "metadata": {
        "ExecuteTime": {
          "end_time": "2020-06-14T17:21:46.422324Z",
          "start_time": "2020-06-14T17:21:46.404298Z"
        },
        "hidden": true,
        "id": "eHat6uYi7oip",
        "outputId": "91cd643c-440d-4509-8ae9-6fc71ca5246b"
      },
      "outputs": [
        {
          "data": {
            "text/plain": [
              "(array([-0.08381182, -0.3075286 , -0.94784057]), 42.2660059241356)"
            ]
          },
          "execution_count": 52,
          "metadata": {},
          "output_type": "execute_result"
        }
      ],
      "source": [
        "# primer vector/valor propio\n",
        "\n",
        "v, l = V[:,0], L[0]\n",
        "v, l"
      ]
    },
    {
      "cell_type": "markdown",
      "metadata": {
        "hidden": true,
        "id": "rZwyv34x7oip"
      },
      "source": [
        "No todas las matrices pueden descomponerse de esta manera, pero cuando se puede esta descomposición nos da mucha información sobre la matriz útil para la derivación de propiedades interesantes para el desarrollo de algoritmos (como el signo de los valores propios)."
      ]
    },
    {
      "cell_type": "markdown",
      "metadata": {
        "heading_collapsed": true,
        "id": "ullFqCQn7oiq"
      },
      "source": [
        "## Otras propiedades"
      ]
    },
    {
      "cell_type": "markdown",
      "metadata": {
        "hidden": true,
        "id": "DgUhsI747oiq"
      },
      "source": [
        "Para terminar vamos a ver algunas otras propiedades interesantes de las matrices que pueden ser útiles. La `diagonal` de una matriz es el vector que contiene todos los elementos de la diagonal de una matriz."
      ]
    },
    {
      "cell_type": "code",
      "execution_count": null,
      "metadata": {
        "ExecuteTime": {
          "end_time": "2020-06-14T17:30:34.992567Z",
          "start_time": "2020-06-14T17:30:34.975538Z"
        },
        "hidden": true,
        "id": "zt9EJLej7oiq",
        "outputId": "e8ea6130-ecd9-4645-bdd9-4ea075c91dd3"
      },
      "outputs": [
        {
          "data": {
            "text/plain": [
              "array([ 1,  7, 31])"
            ]
          },
          "execution_count": 53,
          "metadata": {},
          "output_type": "execute_result"
        }
      ],
      "source": [
        "np.diag(A)"
      ]
    },
    {
      "cell_type": "markdown",
      "metadata": {
        "hidden": true,
        "id": "CZMBLF6O7ois"
      },
      "source": [
        "La `traza` de una matriz es la suma de los elementos de su diagonal."
      ]
    },
    {
      "cell_type": "code",
      "execution_count": null,
      "metadata": {
        "ExecuteTime": {
          "end_time": "2020-06-14T17:32:32.592152Z",
          "start_time": "2020-06-14T17:32:32.582631Z"
        },
        "hidden": true,
        "id": "fzDtl6RJ7ois",
        "outputId": "5af446d4-7efa-4203-c419-43a57fcc4ba1"
      },
      "outputs": [
        {
          "data": {
            "text/plain": [
              "39"
            ]
          },
          "execution_count": 55,
          "metadata": {},
          "output_type": "execute_result"
        }
      ],
      "source": [
        "np.trace(A)"
      ]
    },
    {
      "cell_type": "markdown",
      "metadata": {
        "hidden": true,
        "id": "HlA9d4G57ois"
      },
      "source": [
        "El `determinante` de una matriz es una función que mapea matrices a valores escalares, y su valor absoluto nos da una idea de cuanto se expandirá o contraerá el espacio al multiplicar esa matriz."
      ]
    },
    {
      "cell_type": "code",
      "execution_count": null,
      "metadata": {
        "ExecuteTime": {
          "end_time": "2020-06-14T17:34:30.879667Z",
          "start_time": "2020-06-14T17:34:30.864668Z"
        },
        "hidden": true,
        "id": "BrfytSPY7oit",
        "outputId": "c3a839ae-1576-4e96-e4e6-9dd45ba8bf55"
      },
      "outputs": [
        {
          "data": {
            "text/plain": [
              "43.99999999999999"
            ]
          },
          "execution_count": 56,
          "metadata": {},
          "output_type": "execute_result"
        }
      ],
      "source": [
        "linalg.det(A)"
      ]
    },
    {
      "cell_type": "markdown",
      "metadata": {
        "id": "QL7fIVzB7oit"
      },
      "source": [
        "## Resumen"
      ]
    },
    {
      "cell_type": "markdown",
      "metadata": {
        "id": "i25jx4XO7oit"
      },
      "source": [
        "En este post hemos visto los elementos más importantes del campo del álgebra lineal aplicados a la Inteligencia Artificial. De entre ellos, el saber trabajar con `tensores` (incluyendo `vectores` y `matrices`) y sus operaciones principales (sumas y multiplicaciones) es esencial en el desarrollo de `Redes Neuronales`. Otros algoritmos de `Machine Learning` también envuelven otras propiedades, como por ejemplo la descomposición de matrices (el algoritmo `PCA` puede derivarse directamente de la descomposición de una matriz en vectores propios). Si quieres aprender más sobre este campo, a continuación encontrarás varias referencias que pueden serte muy útiles."
      ]
    },
    {
      "cell_type": "markdown",
      "metadata": {
        "id": "qfJFgQxq7oiu"
      },
      "source": [
        "## Referencias\n",
        "\n",
        "Libros\n",
        "\n",
        "- *The Matrix Cookbook* (Petersen y Pedersen, 2006)\n",
        "- *Deep Learning* (Goodfellow, Bengio y Courville, 2016)\n",
        "\n",
        "Cursos\n",
        "\n",
        "- [MIT, 2010](https://ocw.mit.edu/courses/mathematics/18-06-linear-algebra-spring-2010/)\n",
        "- [FastAI](https://github.com/fastai/numerical-linear-algebra)\n",
        "\n",
        "Youtube\n",
        "\n",
        "- [3Blue1Brown](https://www.youtube.com/watch?v=kjBOesZCoqc&list=PL0-GT3co4r2y2YErbmuJw2L5tW4Ew2O5B)\n",
        "\n",
        "Posts\n",
        "\n",
        "- https://explained.ai/matrix-calculus/index.html"
      ]
    }
  ],
  "metadata": {
    "colab": {
      "provenance": []
    },
    "kernelspec": {
      "display_name": "Python 3",
      "language": "python",
      "name": "python3"
    },
    "language_info": {
      "codemirror_mode": {
        "name": "ipython",
        "version": 3
      },
      "file_extension": ".py",
      "mimetype": "text/x-python",
      "name": "python",
      "nbconvert_exporter": "python",
      "pygments_lexer": "ipython3",
      "version": "3.10.0"
    },
    "toc": {
      "base_numbering": 1,
      "nav_menu": {},
      "number_sections": true,
      "sideBar": true,
      "skip_h1_title": false,
      "title_cell": "Table of Contents",
      "title_sidebar": "Contents",
      "toc_cell": false,
      "toc_position": {},
      "toc_section_display": true,
      "toc_window_display": false
    }
  },
  "nbformat": 4,
  "nbformat_minor": 0
}
